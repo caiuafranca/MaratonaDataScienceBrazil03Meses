{
 "cells": [
  {
   "cell_type": "code",
   "execution_count": 5,
   "metadata": {},
   "outputs": [
    {
     "name": "stdout",
     "output_type": "stream",
     "text": [
      "Olá Neps Academy!\n"
     ]
    }
   ],
   "source": [
    "# INTRODUÇÃO - Exercicio 01 'Ola Neps Academy!'\n",
    "print ('Olá Neps Academy!')"
   ]
  },
  {
   "cell_type": "code",
   "execution_count": 7,
   "metadata": {},
   "outputs": [
    {
     "name": "stdout",
     "output_type": "stream",
     "text": [
      "10.5\n"
     ]
    }
   ],
   "source": [
    "#VARIAVEIS NO PYTHON - Exercicio 02\n",
    "v = 10.5\n",
    "print (v)"
   ]
  },
  {
   "cell_type": "code",
   "execution_count": 9,
   "metadata": {},
   "outputs": [
    {
     "name": "stdout",
     "output_type": "stream",
     "text": [
      "Carlos\n"
     ]
    }
   ],
   "source": [
    "nome = 'Carlos'\n",
    "print (nome)"
   ]
  },
  {
   "cell_type": "code",
   "execution_count": 24,
   "metadata": {},
   "outputs": [
    {
     "name": "stdout",
     "output_type": "stream",
     "text": [
      "Carlos tem 50 Anos, e ganha um salario de R$:2500.45 como Analista de BI.\n"
     ]
    }
   ],
   "source": [
    "idade = 50\n",
    "salario = 2500.45\n",
    "profissao = 'Analista de BI'\n",
    "print (\"{} tem {} Anos, e ganha um salario de R$:{:.2f} como {}.\".format(nome, idade,salario, profissao))"
   ]
  }
 ],
 "metadata": {
  "kernelspec": {
   "display_name": "Python 3",
   "language": "python",
   "name": "python3"
  },
  "language_info": {
   "codemirror_mode": {
    "name": "ipython",
    "version": 3
   },
   "file_extension": ".py",
   "mimetype": "text/x-python",
   "name": "python",
   "nbconvert_exporter": "python",
   "pygments_lexer": "ipython3",
   "version": "3.7.0"
  }
 },
 "nbformat": 4,
 "nbformat_minor": 2
}
